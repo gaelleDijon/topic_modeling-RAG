{
 "cells": [
  {
   "cell_type": "markdown",
   "metadata": {},
   "source": [
    "# RAG sur les description de produit Amazon"
   ]
  },
  {
   "cell_type": "code",
   "execution_count": null,
   "metadata": {},
   "outputs": [],
   "source": [
    "from langchain_core.messages import AIMessage\n",
    "from langchain.vectorstores import FAISS\n",
    "from langchain_ollama import ChatOllama\n",
    "from langchain_ollama.embeddings import OllamaEmbeddings\n",
    "from langchain.text_splitter import RecursiveCharacterTextSplitter\n",
    "import json\n",
    "\n",
    "import time"
   ]
  },
  {
   "cell_type": "code",
   "execution_count": 2,
   "metadata": {},
   "outputs": [],
   "source": [
    "path_desc =\"sources\\\\meta.jsonl\""
   ]
  },
  {
   "cell_type": "markdown",
   "metadata": {},
   "source": [
    "### Prétraitement et segmentation des textes\n"
   ]
  },
  {
   "cell_type": "code",
   "execution_count": null,
   "metadata": {},
   "outputs": [
    {
     "name": "stdout",
     "output_type": "stream",
     "text": [
      "Nb total de desc : 2106\n",
      "Nb total de morceaux : 327\n"
     ]
    }
   ],
   "source": [
    "descriptions = []\n",
    "with open(path_desc, \"r\", encoding=\"utf-8\") as f:\n",
    "    for line in f:\n",
    "        record = json.loads(line)\n",
    "        description = record.get(\"description\", \"\")\n",
    "        descriptions.extend(description)\n",
    "\n",
    "text_splitter = RecursiveCharacterTextSplitter(\n",
    "    chunk_size=512,\n",
    "    chunk_overlap=128\n",
    "    #diminuer l'overlap ne change pas grand chose au temps de chargemnt de l'embedding\n",
    ")\n",
    "#split descriptions in chunks\n",
    "all_chunks = []\n",
    "\n",
    "#subset bc it's too big to index, it takes too much time more than 10 min\n",
    "subset_desc = descriptions[:300]\n",
    "# for description in descriptions:\n",
    "for description in subset_desc :\n",
    "    # print(description)\n",
    "    chunks = text_splitter.split_text(description)\n",
    "    all_chunks.extend(chunks)\n",
    "\n",
    "print(f\"Nb total de desc : {len(descriptions)}\")\n",
    "print(f\"Nb total de morceaux : {len(all_chunks)}\")\n",
    "\n",
    "# print(all_chunks[:2])\n",
    "# print(type(all_chunks))"
   ]
  },
  {
   "cell_type": "markdown",
   "metadata": {},
   "source": [
    "### Index vectoriel"
   ]
  },
  {
   "cell_type": "markdown",
   "metadata": {},
   "source": [
    "init model, embedding process"
   ]
  },
  {
   "cell_type": "code",
   "execution_count": null,
   "metadata": {},
   "outputs": [],
   "source": [
    "embed = OllamaEmbeddings(model=\"llama3.2\")"
   ]
  },
  {
   "cell_type": "code",
   "execution_count": null,
   "metadata": {},
   "outputs": [
    {
     "name": "stdout",
     "output_type": "stream",
     "text": [
      "embedding process time : 392.9859561920166 s\n"
     ]
    }
   ],
   "source": [
    "start = time.time()\n",
    "vectors = embed.embed_documents(all_chunks)\n",
    "end = time.time()\n",
    "\n",
    "print(f\"embedding process time : {end - start} s\")"
   ]
  },
  {
   "cell_type": "code",
   "execution_count": null,
   "metadata": {},
   "outputs": [],
   "source": [
    "# print(vectors[0])"
   ]
  },
  {
   "cell_type": "markdown",
   "metadata": {},
   "source": [
    "### Vectorial DB & retrieval system"
   ]
  },
  {
   "cell_type": "code",
   "execution_count": null,
   "metadata": {},
   "outputs": [],
   "source": [
    "text_embedding_pairs = list(zip(all_chunks, vectors))\n",
    "\n",
    "vectorstore = FAISS.from_embeddings(text_embedding_pairs, embed)\n",
    "\n",
    "retriever = vectorstore.as_retriever()"
   ]
  },
  {
   "cell_type": "code",
   "execution_count": null,
   "metadata": {},
   "outputs": [],
   "source": [
    "#find documents alike\n",
    "query = \"peux-tu me donner une liste de coques pour un téléphone samsung s6 ?\"\n",
    "query_iphone= \"peux tu me donner des informations sur la coque de téléphone dandycase\"\n",
    "queryOneplus=\"Tell me about OnePlus 6T\"\n",
    "querycase=\"Tell me about the soft TPU phone Case\"\n",
    "querysportband=\"Tell me about  Apple Watch Sport Band\"\n",
    "\n",
    "retrieved_docs = retriever.get_relevant_documents(query)\n",
    "\n",
    "#combine retrieved content\n",
    "documents = \"\\n\\n\".join([doc.page_content for doc in retrieved_docs])\n",
    "\n",
    "llm = ChatOllama(\n",
    "    model=\"llama3.2\",\n",
    "    temperature=0\n",
    ")\n",
    " #temp proche de 0 = modèle prend les réponses avec la probabilité la plus haute, proche de 1 == moins déterministe\n",
    "\n",
    "prompt = \"Vous êtes un assistant intelligent qui répond aux questions des clients de la boutique en ligne en utilisant uniquement les informations contenues dans les documents pertinents fournisles voici :{documents}. dans ce contexte, le mot \\\"case\\\" se traduit par \\\"coque de téléphone\\\" en fran_ais.Basé uniquement sur ces documents, répondez précisément et de manière concise à la question suivante :\"\n",
    "\n",
    "messages = [\n",
    "    (\n",
    "        \"system\",\n",
    "        prompt,\n",
    "    ),\n",
    "    (querysportband),\n",
    "]\n",
    "ai_msg = llm.invoke(messages)"
   ]
  },
  {
   "cell_type": "code",
   "execution_count": null,
   "metadata": {},
   "outputs": [
    {
     "name": "stdout",
     "output_type": "stream",
     "text": [
      "Je n'ai trouvé aucune information spécifique sur un \"Apple Watch Sport Band\" dans les documents fournis. Cependant, je peux vous fournir des informations générales sur les bandes de l'Apple Watch.\n",
      "\n",
      "Les bandes de l'Apple Watch sont conçues pour s'accrocher à la montre et offrir une protection supplémentaire contre les chocs et les dégâts. Elles sont disponibles en différentes couleurs, matériaux et styles\n",
      "\n",
      "Si vous cherchez des informations spécifiques sur un modèle particulier de bande Apple Watch, je vous recommande de vérifier le site officiel d'Apple ou les documents fournis pour obtenir plus de détails.\n"
     ]
    }
   ],
   "source": [
    "print(ai_msg.content)"
   ]
  },
  {
   "cell_type": "code",
   "execution_count": null,
   "metadata": {},
   "outputs": [
    {
     "name": "stdout",
     "output_type": "stream",
     "text": [
      "Désolé, je n'ai pas trouvé d'informations spécifiques sur un produit appelé \"Apple Watch Sport Band\". Cependant, j'ai trouvé des informations sur les bandes pour Apple Watch :\n",
      "Les bandes de Apple Watch sont une gamme de accessoires conçus pour être compatibles avec l'horloge Apple Watch. Les bandes Sport de Apple Watch sont spécifiquement conçues pour les exercices et les activités sportives, offrant une confortabilité et une flexibilité exceptionnelle.\n",
      "\n",
      "Voici quelques caractéristiques des bandes Sport de Apple Watch :\n",
      "\n",
      "* Matériau : Cuir ou Nylone\n",
      "* Couleurs : Variées (par exemple, blanc, noir, rose)\n",
      "* Dimensions : 22mm, 38mm, 42mm et 44mm pour les modèles Apple Watch\n",
      "* Poids : Legger et confortable\n",
      "* Finitions : Plus de finitions disponibles dans le portail d'Apple ou dans certains retailers autorisés\n",
      "\n",
      "Les bandes Sport de Apple Watch sont conçues pour être détachable, ce qui signifie qu'il est facile de les remplacer ou de les changer selon vos préférences. Elles sont également résistantes aux abus et peuvent supporter jusqu'à 10 mètres d'eau.\n",
      "\n",
      "Si vous souhaitez en savoir plus, je peux essayer de vous trouver des informations supplémentaires sur le site officiel d'Apple ou dans les stores autorisés.\n"
     ]
    }
   ],
   "source": [
    "#tests sur la température\n",
    "llm = ChatOllama(\n",
    "    model=\"llama3.2\",\n",
    "    temperature=0.99,\n",
    "    top_k=100,\n",
    "    top_p=0.95\n",
    "    #temp proche de 0 = modèle prend les réponses avec la probabilité la plus haute, proche de 1 == moins déterministe\n",
    ")\n",
    "\n",
    "messages = [\n",
    "    (\n",
    "        \"system\",\n",
    "        prompt,\n",
    "    ),\n",
    "    (querysportband),\n",
    "]\n",
    "ai_msg = llm.invoke(messages)\n",
    "print(ai_msg.content)\n"
   ]
  },
  {
   "cell_type": "code",
   "execution_count": null,
   "metadata": {},
   "outputs": [
    {
     "name": "stdout",
     "output_type": "stream",
     "text": [
      "{'model': 'llama3.2', 'created_at': '2024-12-08T00:25:43.2841438Z', 'done': True, 'done_reason': 'stop', 'total_duration': 42242257200, 'load_duration': 22925600, 'prompt_eval_count': 100, 'prompt_eval_duration': 3154000000, 'eval_count': 312, 'eval_duration': 39060000000, 'message': Message(role='assistant', content='', images=None, tool_calls=None)}\n"
     ]
    }
   ],
   "source": [
    "print(ai_msg.response_metadata)"
   ]
  },
  {
   "cell_type": "code",
   "execution_count": 13,
   "metadata": {},
   "outputs": [],
   "source": [
    "# print(retrieved_docs)"
   ]
  },
  {
   "cell_type": "markdown",
   "metadata": {},
   "source": [
    "check the existence of response content in retrieved docs"
   ]
  },
  {
   "cell_type": "code",
   "execution_count": null,
   "metadata": {},
   "outputs": [
    {
     "name": "stdout",
     "output_type": "stream",
     "text": [
      "Documents contenant 'one' :\n",
      "\n",
      "Document 1:\n",
      "your phone in your hand. About us. Yonds Queen is committed to creating the most fashionable, cutting-edge products and the best quality products to bring you a pleasant shopping experience in your leisure life. At the same time, our goal is to provide the highest standard of customer service to each and every one of our customers. If you have any questions, you can contact us promptly via email. Package contents. 1 * Cute soft TPU Case\n",
      "\n",
      "Document 2:\n",
      "Sport Band Compatible with Apple Watch Bands 38mm 40mm 41mm 42mm 44mm 45mm for Women Men,Floral Silicone Printed Fadeless Pattern Replacement Strap Band for iWatch Series 7,Series 3, Series 5,Series 6,Series 4\n"
     ]
    }
   ],
   "source": [
    "kword = \"One\"\n",
    "keyword = keyword.lower()\n",
    "filtered_docs = [doc for doc in retrieved_docs if keyword in doc.page_content.lower()]\n",
    "\n",
    "# print docs found\n",
    "if filtered_docs:\n",
    "    print(f\"Documents contenant '{keyword}' :\")\n",
    "    for i, doc in enumerate(filtered_docs, 1):\n",
    "        print(f\"\\nDocument {i}:\\n{doc.page_content}\")\n",
    "else:\n",
    "    print(f\"Aucun document trouvé contenant '{keyword}'.\")"
   ]
  },
  {
   "cell_type": "code",
   "execution_count": null,
   "metadata": {},
   "outputs": [],
   "source": []
  }
 ],
 "metadata": {
  "kernelspec": {
   "display_name": "Python 3",
   "language": "python",
   "name": "python3"
  },
  "language_info": {
   "codemirror_mode": {
    "name": "ipython",
    "version": 3
   },
   "file_extension": ".py",
   "mimetype": "text/x-python",
   "name": "python",
   "nbconvert_exporter": "python",
   "pygments_lexer": "ipython3",
   "version": "3.12.0"
  }
 },
 "nbformat": 4,
 "nbformat_minor": 2
}
